{
  "nbformat": 4,
  "nbformat_minor": 0,
  "metadata": {
    "colab": {
      "provenance": []
    },
    "kernelspec": {
      "name": "python3",
      "display_name": "Python 3"
    },
    "language_info": {
      "name": "python"
    }
  },
  "cells": [
    {
      "cell_type": "code",
      "execution_count": null,
      "metadata": {
        "id": "HqA4tFO6yBCk"
      },
      "outputs": [],
      "source": [
        "import pandas as pd\n",
        "import numpy as np\n",
        "df = pd.read_csv(\"Data2.csv\")"
      ]
    },
    {
      "cell_type": "code",
      "source": [
        "df.insert( 0, \"x0\", 1)"
      ],
      "metadata": {
        "id": "zBxMT4QZyLel"
      },
      "execution_count": null,
      "outputs": []
    },
    {
      "cell_type": "code",
      "source": [
        "initial_x = df[\"x\"]"
      ],
      "metadata": {
        "id": "seOwzNkw2UjB"
      },
      "execution_count": null,
      "outputs": []
    },
    {
      "cell_type": "code",
      "source": [
        "# df[\"x\"] = 2.73**df[\"x\"]"
      ],
      "metadata": {
        "id": "n55slmbmyLbJ"
      },
      "execution_count": null,
      "outputs": []
    },
    {
      "cell_type": "code",
      "source": [
        "y1 = df['y']\n",
        "df['y'] = np.log(df['y'])\n"
      ],
      "metadata": {
        "id": "Cn3SyOCV2Cz5"
      },
      "execution_count": null,
      "outputs": []
    },
    {
      "cell_type": "code",
      "source": [
        "def xi(i):\n",
        "  return np.array((df.iloc[i][:2],)).T"
      ],
      "metadata": {
        "id": "0U8TV4VGyLWl"
      },
      "execution_count": null,
      "outputs": []
    },
    {
      "cell_type": "code",
      "source": [
        "def xi_t(vector):\n",
        "  return vector.T"
      ],
      "metadata": {
        "id": "WqlwFrlByLTc"
      },
      "execution_count": null,
      "outputs": []
    },
    {
      "cell_type": "code",
      "source": [
        "def yi(i):\n",
        "  return np.array(df.iloc[i][2:])"
      ],
      "metadata": {
        "id": "jpMBf9xuyLQc"
      },
      "execution_count": null,
      "outputs": []
    },
    {
      "cell_type": "code",
      "source": [
        "zero_vec = np.zeros((2, 1))\n",
        "zero_matrix = np.zeros((2, 2))\n",
        "for i in range(int(len(df)*0.8)):\n",
        "  zero_matrix = zero_matrix + (xi(i) @ xi_t(xi(i)))\n",
        "  zero_vec = zero_vec + (xi(i) * yi(i))"
      ],
      "metadata": {
        "id": "5Hwkk7YTyLNZ"
      },
      "execution_count": null,
      "outputs": []
    },
    {
      "cell_type": "code",
      "source": [
        "zero_vec"
      ],
      "metadata": {
        "colab": {
          "base_uri": "https://localhost:8080/"
        },
        "id": "fVLnQJVh1TlB",
        "outputId": "1873c9ab-58c6-4c1f-f470-937d4b971986"
      },
      "execution_count": null,
      "outputs": [
        {
          "output_type": "execute_result",
          "data": {
            "text/plain": [
              "array([[ 609.40700258],\n",
              "       [2879.41309879]])"
            ]
          },
          "metadata": {},
          "execution_count": 34
        }
      ]
    },
    {
      "cell_type": "code",
      "source": [
        "zero_matrix"
      ],
      "metadata": {
        "colab": {
          "base_uri": "https://localhost:8080/"
        },
        "id": "CIVynqke1TW0",
        "outputId": "af5f448a-1dcf-49b7-db23-2420fc2947dd"
      },
      "execution_count": null,
      "outputs": [
        {
          "output_type": "execute_result",
          "data": {
            "text/plain": [
              "array([[  80. ,  324. ],\n",
              "       [ 324. , 1738.8]])"
            ]
          },
          "metadata": {},
          "execution_count": 35
        }
      ]
    },
    {
      "cell_type": "code",
      "source": [
        "w = np.linalg.inv(zero_matrix) @ zero_vec\n",
        "print(w)"
      ],
      "metadata": {
        "id": "_PcPfQlbyLHP",
        "colab": {
          "base_uri": "https://localhost:8080/"
        },
        "outputId": "c4313dfc-998b-419e-92ef-3352cdadef2d"
      },
      "execution_count": null,
      "outputs": [
        {
          "output_type": "stream",
          "name": "stdout",
          "text": [
            "[[3.71270078]\n",
            " [0.96416957]]\n"
          ]
        }
      ]
    },
    {
      "cell_type": "code",
      "source": [
        "acc = []\n",
        "for i in range(len(df)):\n",
        "  acc.append((w.T @ xi(i))[0][0])\n",
        "\n"
      ],
      "metadata": {
        "id": "HT_UziVqzGbE"
      },
      "execution_count": null,
      "outputs": []
    },
    {
      "cell_type": "code",
      "source": [
        "df[\"y_cap\"] = acc"
      ],
      "metadata": {
        "id": "CLtv54ajzGeu"
      },
      "execution_count": null,
      "outputs": []
    },
    {
      "cell_type": "code",
      "source": [
        "import matplotlib.pyplot as plt\n",
        "\n",
        "plt.plot(initial_x, y1)\n",
        "plt.plot(initial_x, np.exp(acc), color = 'green')"
      ],
      "metadata": {
        "colab": {
          "base_uri": "https://localhost:8080/",
          "height": 462
        },
        "id": "0cyiIg7_zGmu",
        "outputId": "236ace2c-4351-4ccd-ecdf-0f12ebd2210c"
      },
      "execution_count": null,
      "outputs": [
        {
          "output_type": "execute_result",
          "data": {
            "text/plain": [
              "[<matplotlib.lines.Line2D at 0x7f192ab73c40>]"
            ]
          },
          "metadata": {},
          "execution_count": 49
        },
        {
          "output_type": "display_data",
          "data": {
            "text/plain": [
              "<Figure size 640x480 with 1 Axes>"
            ],
            "image/png": "[encoded data removed]"
          },
          "metadata": {}
        }
      ]
    },
    {
      "cell_type": "code",
      "source": [
        "def RSS(df):\n",
        "  return np.sum((df[\"y\"] - df[\"y_cap\"])**2)"
      ],
      "metadata": {
        "id": "fENCQ0o8zRrk"
      },
      "execution_count": null,
      "outputs": []
    },
    {
      "cell_type": "code",
      "source": [
        "def TSS(df):\n",
        "  return np.sum((df[\"y\"] - np.mean(df[\"y\"]))**2)"
      ],
      "metadata": {
        "id": "lgM96j3xzRiv"
      },
      "execution_count": null,
      "outputs": []
    },
    {
      "cell_type": "code",
      "source": [
        "R_square = 1 - (RSS(df)/TSS(df))"
      ],
      "metadata": {
        "id": "b2IGOmwXzRYd"
      },
      "execution_count": null,
      "outputs": []
    },
    {
      "cell_type": "code",
      "source": [
        "R_square"
      ],
      "metadata": {
        "colab": {
          "base_uri": "https://localhost:8080/"
        },
        "id": "U35oJFcPzRP4",
        "outputId": "b8c3ecd9-4fd0-4e2c-d5e9-afb8ef705c79"
      },
      "execution_count": null,
      "outputs": [
        {
          "output_type": "execute_result",
          "data": {
            "text/plain": [
              "0.9902977080665883"
            ]
          },
          "metadata": {},
          "execution_count": 43
        }
      ]
    },
    {
      "cell_type": "code",
      "source": [
        "def RMSE(df):\n",
        "  return (RSS(df)/len(df))**1/2"
      ],
      "metadata": {
        "id": "YyiP4wMNsfG_"
      },
      "execution_count": null,
      "outputs": []
    },
    {
      "cell_type": "code",
      "source": [
        "RMSE(df)"
      ],
      "metadata": {
        "colab": {
          "base_uri": "https://localhost:8080/"
        },
        "id": "8sW7kLllsfXw",
        "outputId": "e6301e5e-67fd-46e2-d50c-a43fcef8f2fd"
      },
      "execution_count": null,
      "outputs": [
        {
          "output_type": "execute_result",
          "data": {
            "text/plain": [
              "0.038639433418650664"
            ]
          },
          "metadata": {},
          "execution_count": 45
        }
      ]
    },
    {
      "cell_type": "code",
      "source": [
        "def abs(df):\n",
        "  return np.sum(np.abs(df[\"y\"] - df[\"y_cap\"]))"
      ],
      "metadata": {
        "id": "3feyVsG4sjXf"
      },
      "execution_count": null,
      "outputs": []
    },
    {
      "cell_type": "code",
      "source": [
        "def MAE(df):\n",
        "  return abs(df)/len(df)\n"
      ],
      "metadata": {
        "id": "EXZDlNpysoIt"
      },
      "execution_count": null,
      "outputs": []
    },
    {
      "cell_type": "code",
      "source": [
        "MAE(df)"
      ],
      "metadata": {
        "colab": {
          "base_uri": "https://localhost:8080/"
        },
        "id": "5VTIuufRsjhB",
        "outputId": "76a300c9-59de-4353-91cb-75ad944e3be8"
      },
      "execution_count": null,
      "outputs": [
        {
          "output_type": "execute_result",
          "data": {
            "text/plain": [
              "0.23207248870066696"
            ]
          },
          "metadata": {},
          "execution_count": 48
        }
      ]
    }
  ]
}